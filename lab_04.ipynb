{
  "cells": [
    {
      "cell_type": "markdown",
      "metadata": {
        "id": "cVHqqmwrzvH7"
      },
      "source": [
        "[![image](https://colab.research.google.com/assets/colab-badge.svg)](https://colab.research.google.com/github/giswqs/geog-312/blob/master/labs/lab_04.ipynb)\n",
        "[![image](https://binder.pangeo.io/badge_logo.svg)](https://gishub.org/geog312-pangeo)\n",
        "\n",
        "**Cameron Corsino**"
      ]
    },
    {
      "cell_type": "code",
      "execution_count": 1,
      "metadata": {
        "id": "8O8Taf-3zvH8",
        "outputId": "bad071b4-1c4a-4968-e9ab-4e32d0363ef6",
        "colab": {
          "base_uri": "https://localhost:8080/"
        }
      },
      "outputs": [
        {
          "output_type": "stream",
          "name": "stdout",
          "text": [
            "Submitted time: 2023-09-29 11:59:56.997628\n"
          ]
        }
      ],
      "source": [
        "from datetime import datetime\n",
        "\n",
        "now = datetime.now()\n",
        "print(f\"Submitted time: {now}\")"
      ]
    },
    {
      "cell_type": "markdown",
      "metadata": {
        "id": "thbGaOG6zvH9"
      },
      "source": [
        "## Question 1\n",
        "**Alien Colors # 1:** Imagine an alien was just shot down in a game. Create a variable called `alien_color` and assign it a value of `green, yellow,` or `red`.\n",
        "\n",
        "* Write an if statement to test whether the alien’s color is green. If it is, print a message that the player just earned 5 points.\n",
        "* Write one version of this program that passes the if test and another that fails. (The version that fails will have no output.)"
      ]
    },
    {
      "cell_type": "code",
      "execution_count": 6,
      "metadata": {
        "id": "FxPB_hqizvH9",
        "outputId": "cff8debf-cdaf-4a4a-e2dc-e074f604ee21",
        "colab": {
          "base_uri": "https://localhost:8080/"
        }
      },
      "outputs": [
        {
          "output_type": "stream",
          "name": "stdout",
          "text": [
            "Player01 earned +5 points\n"
          ]
        }
      ],
      "source": [
        "alien_color = 'green'\n",
        "if alien_color == 'green':\n",
        "  print(\"Player01 earned +5 points\")\n",
        "\n",
        "if alien_color == 'yellow':\n",
        "  print(\"Player01 earned +5 points\")\n"
      ]
    },
    {
      "cell_type": "markdown",
      "metadata": {
        "id": "GiqJlSHOzvH9"
      },
      "source": [
        "## Question 2\n",
        "**Alien Colors # 2:** Choose a color for an alien as you did in Question 1, and write an `if-else` chain.\n",
        "\n",
        "* If the alien’s color is green, print a statement that the player just earned 5 points for shooting the alien.\n",
        "* If the alien’s color isn’t green, print a statement that the player just earned 10 points.\n",
        "* Write one version of this program that runs the if block and another that runs the else block."
      ]
    },
    {
      "cell_type": "code",
      "execution_count": 7,
      "metadata": {
        "id": "yosgr0ifzvH-",
        "outputId": "ecd63121-c24a-4930-940d-8214bab1470e",
        "colab": {
          "base_uri": "https://localhost:8080/"
        }
      },
      "outputs": [
        {
          "output_type": "stream",
          "name": "stdout",
          "text": [
            "Player01 defeated alien! +5\n"
          ]
        }
      ],
      "source": [
        "alien_color = 'green'\n",
        "if alien_color == 'green':\n",
        "  print(\"Player01 defeated alien! +5\")\n",
        "else:\n",
        "  print(\"Player01 +10\")"
      ]
    },
    {
      "cell_type": "code",
      "source": [
        "alien_color = 'red'\n",
        "if alien_color == 'green':\n",
        "  print(\"Player01 defeated alien! +5\")\n",
        "else:\n",
        "  print(\"Player01 +10\")"
      ],
      "metadata": {
        "id": "KSnY8jdB2GM7",
        "outputId": "f474ff84-cdb7-4e26-cd83-dacfcee5b056",
        "colab": {
          "base_uri": "https://localhost:8080/"
        }
      },
      "execution_count": 8,
      "outputs": [
        {
          "output_type": "stream",
          "name": "stdout",
          "text": [
            "Player01 +10\n"
          ]
        }
      ]
    },
    {
      "cell_type": "markdown",
      "metadata": {
        "id": "kMy50mSUzvH-"
      },
      "source": [
        "## Question 3\n",
        "**Alien Colors # 3:** Turn your `if-else` chain from Question 2 into an `if-elif-else` chain.\n",
        "\n",
        "* If the alien is green, print a message that the player earned 5 points.\n",
        "* If the alien is yellow, print a message that the player earned 10 points.\n",
        "* If the alien is red, print a message that the player earned 15 points.\n",
        "* Write three versions of this program, making sure each message is printed for the appropriate color alien."
      ]
    },
    {
      "cell_type": "code",
      "execution_count": 10,
      "metadata": {
        "id": "MhvTfYMjzvH-",
        "outputId": "a3f293b8-7a72-496b-ce74-735e428781b7",
        "colab": {
          "base_uri": "https://localhost:8080/"
        }
      },
      "outputs": [
        {
          "output_type": "stream",
          "name": "stdout",
          "text": [
            "Player01 +5\n"
          ]
        }
      ],
      "source": [
        "alien_color = 'green'\n",
        "if alien_color == 'green':\n",
        "  print(\"Player01 +5\")\n",
        "elif alien_color == 'yellow':\n",
        "  print(\"Player01 +10\")\n",
        "else:\n",
        "  print(\"Player01 +15\")"
      ]
    },
    {
      "cell_type": "code",
      "source": [
        "alien_color = 'yellow'\n",
        "if alien_color == 'green':\n",
        "  print(\"Player01 +5\")\n",
        "elif alien_color == 'yellow':\n",
        "  print(\"Player01 +10\")\n",
        "else:\n",
        "  print(\"Player01 +15\")"
      ],
      "metadata": {
        "id": "JdtiJDVH2sD1",
        "outputId": "356d326b-a3b0-4856-9839-1ed91d7140c1",
        "colab": {
          "base_uri": "https://localhost:8080/"
        }
      },
      "execution_count": 11,
      "outputs": [
        {
          "output_type": "stream",
          "name": "stdout",
          "text": [
            "Player01 +10\n"
          ]
        }
      ]
    },
    {
      "cell_type": "code",
      "source": [
        "alien_color = 'Orange'\n",
        "if alien_color == 'green':\n",
        "  print(\"Player01 +5\")\n",
        "elif alien_color == 'yellow':\n",
        "  print(\"Player01 +10\")\n",
        "else:\n",
        "  print(\"Player01 +15\")"
      ],
      "metadata": {
        "id": "54nac6uc2wkn",
        "outputId": "dc0820f9-2cbf-4947-d712-85dc0c83222d",
        "colab": {
          "base_uri": "https://localhost:8080/"
        }
      },
      "execution_count": 12,
      "outputs": [
        {
          "output_type": "stream",
          "name": "stdout",
          "text": [
            "Player01 +15\n"
          ]
        }
      ]
    },
    {
      "cell_type": "markdown",
      "metadata": {
        "id": "Pm63-AiKzvH-"
      },
      "source": [
        "## Question 4\n",
        "**Stages of Life:** Write an `if-elif-else` chain that determines a person’s stage of life. Set a value for the variable `age`, and then:\n",
        "\n",
        "* If the person is less than 2 years old, print a message that the person is a baby.\n",
        "* If the person is at least 2 years old but less than 4, print a message that the person is a toddler.\n",
        "* If the person is at least 4 years old but less than 13, print a message that the person is a kid.\n",
        "* If the person is at least 13 years old but less than 20, print a message that the person is a teenager.\n",
        "* If the person is at least 20 years old but less than 65, print a message that the person is an adult."
      ]
    },
    {
      "cell_type": "code",
      "execution_count": 37,
      "metadata": {
        "id": "rRwe1pHkzvH-",
        "outputId": "df7d5938-1b19-4ada-a694-603769758091",
        "colab": {
          "base_uri": "https://localhost:8080/"
        }
      },
      "outputs": [
        {
          "output_type": "stream",
          "name": "stdout",
          "text": [
            "This person is an adult.\n"
          ]
        }
      ],
      "source": [
        "age = 22\n",
        "if age < 2:\n",
        "  print(\"This person is a baby.\")\n",
        "elif age < 4:\n",
        "  print(\"This person is a toddler.\")\n",
        "elif age < 13:\n",
        "  print(\"this person is a kid.\")\n",
        "elif age < 20:\n",
        "  print(\"This person is a teenager.\")\n",
        "elif age < 65:\n",
        "  print(\"This person is an adult.\")"
      ]
    },
    {
      "cell_type": "markdown",
      "metadata": {
        "id": "kOfXJ4v8zvH-"
      },
      "source": [
        "## Question 5\n",
        "**Favorite Fruit:** Make a list of your favorite fruits, and then write a series of independent `if` statements that check for certain fruits in your list.\n",
        "\n",
        "* Make a list of your three favorite fruits and call it favorite_fruits.\n",
        "* Write five if statements. Each should check whether a certain kind of fruit is in your list. If the fruit is in your list, the if block should print a statement, such as You really like bananas!"
      ]
    },
    {
      "cell_type": "code",
      "execution_count": 14,
      "metadata": {
        "id": "w3W4hXqrzvH-",
        "outputId": "bff02b49-6924-4047-8349-9bd13c0c1663",
        "colab": {
          "base_uri": "https://localhost:8080/"
        }
      },
      "outputs": [
        {
          "output_type": "stream",
          "name": "stdout",
          "text": [
            "I like strawberries\n",
            "I like raspberries\n",
            "I like cherries\n"
          ]
        }
      ],
      "source": [
        "favorite_fruits = ['strawberries','raspberries','cherries']\n",
        "if 'apples' in favorite_fruits:\n",
        "  print('I like apples')\n",
        "if 'strawberries' in favorite_fruits:\n",
        "  print('I like strawberries')\n",
        "if 'blueberries' in favorite_fruits:\n",
        "  print('I like blueberries')\n",
        "if 'raspberries' in favorite_fruits:\n",
        "  print('I like raspberries')\n",
        "if 'cherries' in favorite_fruits:\n",
        "  print(\"I like cherries\")\n"
      ]
    },
    {
      "cell_type": "markdown",
      "metadata": {
        "id": "LkmXEI7fzvH_"
      },
      "source": [
        "## Question 6\n",
        "**Hello Admin:** Make a list of five or more usernames, including the name `admin`. Imagine you are writing code that will print a greeting to each user after they log in to a website. Loop through the list, and print a greeting to each user:\n",
        "\n",
        "* If the username is 'admin', print a special greeting, such as *Hello admin, would you like to see a status report?*\n",
        "* Otherwise, print a generic greeting, such as *Hello Jaden, thank you for logging in again*."
      ]
    },
    {
      "cell_type": "code",
      "execution_count": 20,
      "metadata": {
        "id": "12DbJ3rMzvH_",
        "outputId": "3dddee31-d16b-46ee-f8fc-ba00dc039bd9",
        "colab": {
          "base_uri": "https://localhost:8080/"
        }
      },
      "outputs": [
        {
          "output_type": "stream",
          "name": "stdout",
          "text": [
            "Hello admin, would you like to see a status report?\n",
            "Hello Matt123, thank you for logging in again\n",
            "Hello Cam321, thank you for logging in again\n",
            "Hello Scott456, thank you for logging in again\n",
            "Hello Jackson789, thank you for logging in again\n"
          ]
        }
      ],
      "source": [
        "usernames = ['admin','Matt123','Cam321','Scott456','Jackson789']\n",
        "for username in usernames:\n",
        "  if username == 'admin':\n",
        "    print(\"Hello admin, would you like to see a status report?\")\n",
        "  else:\n",
        "    print(\"Hello \"+ username +\", thank you for logging in again\")"
      ]
    },
    {
      "cell_type": "markdown",
      "metadata": {
        "id": "DdBFFrQ6zvH_"
      },
      "source": [
        "## Question 7\n",
        "**No Users:** Based on Question 6, add an `if` test to make sure the list of users is not empty.\n",
        "\n",
        "* If the list is empty, print the message *We need to find some users!*\n",
        "* Remove all of the usernames from your list, and make sure the correct message is printed."
      ]
    },
    {
      "cell_type": "code",
      "execution_count": 22,
      "metadata": {
        "id": "NkDVtR39zvH_",
        "outputId": "c2c50dcc-498d-4015-cc86-9cbb60f7acdb",
        "colab": {
          "base_uri": "https://localhost:8080/"
        }
      },
      "outputs": [
        {
          "output_type": "stream",
          "name": "stdout",
          "text": [
            "We need to find some users!\n"
          ]
        }
      ],
      "source": [
        "usernames = []\n",
        "if usernames:\n",
        "  for username in usernames:\n",
        "    if username == 'admin':\n",
        "      print(\"Hello admin, would you like to see a status report?\")\n",
        "    else:\n",
        "     print(\"Hello \"+ username +\", thank you for logging in again\")\n",
        "else:\n",
        "  print(\"We need to find some users!\")"
      ]
    },
    {
      "cell_type": "markdown",
      "metadata": {
        "id": "LAYY2wMszvH_"
      },
      "source": [
        "## Question 8\n",
        "**Checking Usernames:** Do the following to create a program that simulates how websites ensure that everyone has a unique username.\n",
        "\n",
        "* Make a list of five or more usernames called `current_users`.\n",
        "*  Make another list of five usernames called `new_users`. Make sure one or two of the new usernames are also in the `current_users` list.\n",
        "* Loop through the `new_users` list to see if each new username has already been used. If it has, print a message that the person will need to enter a new username. If a username has not been used, print a message saying that the username is available.\n",
        "* Make sure your comparison is case insensitive. If 'John' has been used, 'JOHN' should not be accepted. (To do this, you’ll need to make a copy of `current_users` containing the lowercase versions of all existing users.)"
      ]
    },
    {
      "cell_type": "code",
      "execution_count": 35,
      "metadata": {
        "id": "gZA5ttIrzvH_",
        "outputId": "79d49504-4a81-4a84-b871-32e0f9a5829d",
        "colab": {
          "base_uri": "https://localhost:8080/"
        }
      },
      "outputs": [
        {
          "output_type": "stream",
          "name": "stdout",
          "text": [
            "Okay Kyle123, this username is available.\n",
            "Sorry Matt123 This username is taken.\n",
            "Okay Ryan321, this username is available.\n",
            "Okay Josh456, this username is available.\n",
            "Okay Scott789, this username is available.\n"
          ]
        }
      ],
      "source": [
        "current_users = ['admin','Matt123','Cam321','Scott456','Jackson789']\n",
        "new_users = ['Kyle123','Matt123','Ryan321','Josh456','Scott789']\n",
        "current_users_lower = [user.lower() for user in current_users]\n",
        "for new_user in new_users:\n",
        "  if new_user.lower() in current_users_lower:\n",
        "    print(\"Sorry \" + new_user +\" This username is taken.\")\n",
        "  else:\n",
        "    print(\"Okay \" + new_user +\", this username is available.\")"
      ]
    },
    {
      "cell_type": "markdown",
      "metadata": {
        "id": "811H7glmzvH_"
      },
      "source": [
        "## Question 9\n",
        "**Ordinal Numbers:** Ordinal numbers indicate their position in a list, such as *1st* or *2nd*. Most ordinal numbers end in *th*, except 1, 2, and 3.\n",
        "\n",
        "* Store the numbers 1 through 9 in a list.\n",
        "* Loop through the list.\n",
        "* Use an `if-elif-else` chain inside the loop to print the proper ordinal ending for each number. Your output should read \"1st 2nd 3rd 4th 5th 6th 7th 8th 9th\", and each result should be on a separate line."
      ]
    },
    {
      "cell_type": "code",
      "execution_count": 36,
      "metadata": {
        "id": "1fVYlaYVzvH_",
        "outputId": "02242157-778c-45de-a88d-09b009d8299a",
        "colab": {
          "base_uri": "https://localhost:8080/"
        }
      },
      "outputs": [
        {
          "output_type": "stream",
          "name": "stdout",
          "text": [
            "1st\n",
            "2nd\n",
            "3rd\n",
            "4th\n",
            "5th\n",
            "6th\n",
            "7th\n",
            "8th\n",
            "9th\n"
          ]
        }
      ],
      "source": [
        "numbers = list(range(1,10))\n",
        "for number in numbers:\n",
        "  if number == 1:\n",
        "    print(\"1st\")\n",
        "  elif number == 2:\n",
        "      print(\"2nd\")\n",
        "  elif number == 3:\n",
        "    print(\"3rd\")\n",
        "  else:\n",
        "    print(str(number) + \"th\")"
      ]
    }
  ],
  "metadata": {
    "kernelspec": {
      "display_name": "Python 3 (ipykernel)",
      "language": "python",
      "name": "python3"
    },
    "language_info": {
      "codemirror_mode": {
        "name": "ipython",
        "version": 3
      },
      "file_extension": ".py",
      "mimetype": "text/x-python",
      "name": "python",
      "nbconvert_exporter": "python",
      "pygments_lexer": "ipython3",
      "version": "3.8.10"
    },
    "colab": {
      "provenance": []
    }
  },
  "nbformat": 4,
  "nbformat_minor": 0
}